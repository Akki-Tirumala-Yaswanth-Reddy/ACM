{
  "nbformat": 4,
  "nbformat_minor": 0,
  "metadata": {
    "colab": {
      "provenance": []
    },
    "kernelspec": {
      "name": "python3",
      "display_name": "Python 3"
    },
    "language_info": {
      "name": "python"
    }
  },
  "cells": [
    {
      "cell_type": "code",
      "execution_count": 5,
      "metadata": {
        "colab": {
          "base_uri": "https://localhost:8080/"
        },
        "id": "ea0o7Pi2_XAp",
        "outputId": "e1fcb9c0-9616-4e39-ba93-7d9eb045f377"
      },
      "outputs": [
        {
          "output_type": "stream",
          "name": "stdout",
          "text": [
            "0th-> Loss: 0.01875573463496105\n",
            "100th-> Loss: 2.465190328815662e-32\n",
            "200th-> Loss: 0.0\n",
            "300th-> Loss: 0.0\n",
            "400th-> Loss: 0.0\n",
            "500th-> Loss: 0.0\n",
            "600th-> Loss: 0.0\n",
            "700th-> Loss: 0.0\n",
            "800th-> Loss: 0.0\n",
            "900th-> Loss: 0.0\n"
          ]
        }
      ],
      "source": [
        "import numpy as np\n",
        "\n",
        "def sigmoid(x):\n",
        "    return 1 / (1 + np.exp(-x))\n",
        "\n",
        "def sigmoid_derivative(x):\n",
        "    s = sigmoid(x)\n",
        "    return s * (1 - s)\n",
        "\n",
        "np.random.seed(0)\n",
        "x = np.array([[0.5], [0.1]])\n",
        "y = np.array([[1.0]])\n",
        "\n",
        "input_size = 2\n",
        "hidden_size = 4\n",
        "output_size = 1\n",
        "lr = 0.1\n",
        "\n",
        "W1 = np.random.randn(hidden_size, input_size)\n",
        "b1 = np.zeros((hidden_size, 1))\n",
        "W2 = np.random.randn(output_size, hidden_size)\n",
        "b2 = np.zeros((output_size, 1))\n",
        "\n",
        "for n in range(1000):\n",
        "    z1 = np.dot(W1, x) + b1\n",
        "    a1 = sigmoid(z1)\n",
        "    z2 = np.dot(W2, a1) + b2\n",
        "    a2 = z2\n",
        "\n",
        "    loss = 0.5 * np.square(a2 - y)\n",
        "\n",
        "    dL_da2 = a2 - y\n",
        "    dL_dW2 = np.dot(dL_da2, a1.T)\n",
        "    dL_db2 = dL_da2\n",
        "\n",
        "    da1 = np.dot(W2.T, dL_da2)\n",
        "    dz1 = da1 * sigmoid_derivative(z1)\n",
        "    dL_dW1 = np.dot(dz1, x.T)\n",
        "    dL_db1 = dz1\n",
        "\n",
        "    W2 -= lr * dL_dW2\n",
        "    b2 -= lr * dL_db2\n",
        "    W1 -= lr * dL_dW1\n",
        "    b1 -= lr * dL_db1\n",
        "\n",
        "    if n % 100 == 0:\n",
        "        print(f\"{n}th-> Loss: {loss.item()}\")\n"
      ]
    }
  ]
}