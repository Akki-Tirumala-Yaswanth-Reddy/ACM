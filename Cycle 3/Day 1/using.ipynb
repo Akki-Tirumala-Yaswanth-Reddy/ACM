{
 "cells": [
  {
   "cell_type": "code",
   "execution_count": 3,
   "id": "77edacfd",
   "metadata": {},
   "outputs": [],
   "source": [
    "import joblib\n",
    "\n",
    "model = joblib.load('logreg_iris_pipeline.joblib')"
   ]
  },
  {
   "cell_type": "code",
   "execution_count": 5,
   "id": "b6d663bb",
   "metadata": {},
   "outputs": [],
   "source": [
    "from sklearn import datasets\n",
    "import pandas as pd\n",
    "\n",
    "data = datasets.load_iris(as_frame=True, )\n",
    "df = pd.concat([data.data, data.target], axis=1)\n",
    "\n",
    "from sklearn.model_selection import train_test_split\n",
    "X = df[[col for col in df.columns if col != 'target']]\n",
    "y = df['target']\n",
    "\n",
    "X_train, X_test, y_train, y_test = train_test_split(X, y, shuffle= True)"
   ]
  },
  {
   "cell_type": "code",
   "execution_count": 7,
   "id": "6c19313d",
   "metadata": {},
   "outputs": [
    {
     "data": {
      "text/plain": [
       "0.9473684210526315"
      ]
     },
     "execution_count": 7,
     "metadata": {},
     "output_type": "execute_result"
    }
   ],
   "source": [
    "model.score(X_test, y_test)"
   ]
  }
 ],
 "metadata": {
  "kernelspec": {
   "display_name": "base",
   "language": "python",
   "name": "python3"
  },
  "language_info": {
   "codemirror_mode": {
    "name": "ipython",
    "version": 3
   },
   "file_extension": ".py",
   "mimetype": "text/x-python",
   "name": "python",
   "nbconvert_exporter": "python",
   "pygments_lexer": "ipython3",
   "version": "3.12.4"
  }
 },
 "nbformat": 4,
 "nbformat_minor": 5
}
