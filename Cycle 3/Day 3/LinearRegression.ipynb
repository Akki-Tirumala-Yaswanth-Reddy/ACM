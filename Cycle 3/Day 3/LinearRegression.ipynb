{
  "nbformat": 4,
  "nbformat_minor": 0,
  "metadata": {
    "colab": {
      "provenance": []
    },
    "kernelspec": {
      "name": "python3",
      "display_name": "Python 3"
    },
    "language_info": {
      "name": "python"
    }
  },
  "cells": [
    {
      "cell_type": "code",
      "execution_count": 1,
      "metadata": {
        "id": "vUOGDCmLVlKk"
      },
      "outputs": [],
      "source": [
        "import torch"
      ]
    },
    {
      "cell_type": "code",
      "source": [
        "X = torch.tensor([[1,2], [2,4], [3,6], [4,8]])\n",
        "y = torch.tensor([2,4,6,8])"
      ],
      "metadata": {
        "id": "ArPow-pkWWq2"
      },
      "execution_count": 2,
      "outputs": []
    },
    {
      "cell_type": "code",
      "source": [
        "w = torch.randn(2, dtype=torch.float64, requires_grad=True)\n",
        "b = torch.randn(1, dtype=torch.float64, requires_grad=True)\n",
        "learning_rate = 0.01"
      ],
      "metadata": {
        "id": "1diEGhUoV5UW"
      },
      "execution_count": 17,
      "outputs": []
    },
    {
      "cell_type": "code",
      "source": [
        "for n in range(20):\n",
        "  y_pred = X.double() @ w + b\n",
        "\n",
        "  loss_function = ((y.double() - y_pred) ** 2).mean()\n",
        "  loss_function.backward()\n",
        "\n",
        "  with torch.no_grad():\n",
        "    w -= learning_rate * w.grad\n",
        "    b -= learning_rate * b.grad\n",
        "\n",
        "    w.grad.zero_()\n",
        "    b.grad.zero_()\n"
      ],
      "metadata": {
        "id": "mYcOaQ-bbMow"
      },
      "execution_count": 18,
      "outputs": []
    },
    {
      "cell_type": "code",
      "source": [
        "print(w, b)"
      ],
      "metadata": {
        "colab": {
          "base_uri": "https://localhost:8080/"
        },
        "id": "_DfjLRx8cu21",
        "outputId": "4638940d-0e1b-4fd7-e2f4-166c4e3544f4"
      },
      "execution_count": 19,
      "outputs": [
        {
          "output_type": "stream",
          "name": "stdout",
          "text": [
            "tensor([1.1795, 0.6348], dtype=torch.float64, requires_grad=True) tensor([-1.3414], dtype=torch.float64, requires_grad=True)\n"
          ]
        }
      ]
    },
    {
      "cell_type": "code",
      "source": [
        "print(X.double() @ w + b, y.double())"
      ],
      "metadata": {
        "colab": {
          "base_uri": "https://localhost:8080/"
        },
        "id": "4vjjr0AFc3BW",
        "outputId": "5ed760da-f16f-4f58-b6ab-fb5ecdd4f37f"
      },
      "execution_count": 20,
      "outputs": [
        {
          "output_type": "stream",
          "name": "stdout",
          "text": [
            "tensor([1.1077, 3.5568, 6.0059, 8.4549], dtype=torch.float64,\n",
            "       grad_fn=<AddBackward0>) tensor([2., 4., 6., 8.], dtype=torch.float64)\n"
          ]
        }
      ]
    }
  ]
}