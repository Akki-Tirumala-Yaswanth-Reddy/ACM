{
  "cells": [
    {
      "cell_type": "code",
      "execution_count": 1,
      "metadata": {
        "id": "-n-Pp3VMVlCt"
      },
      "outputs": [],
      "source": [
        "import torch\n",
        "import torch.nn as nn\n",
        "import torch.optim as optim\n",
        "from torchvision import transforms, datasets\n",
        "from torch.utils.data import DataLoader\n"
      ]
    },
    {
      "cell_type": "code",
      "execution_count": 2,
      "metadata": {
        "id": "_uXJ3K-tWdfS"
      },
      "outputs": [],
      "source": [
        "transform = transforms.Compose([\n",
        "    transforms.ToTensor(),\n",
        "    transforms.Normalize((0.5,), (0.5,))\n",
        "    ])"
      ]
    },
    {
      "cell_type": "code",
      "execution_count": 5,
      "metadata": {
        "id": "ZRH_PU_dX_AM"
      },
      "outputs": [],
      "source": [
        "train = datasets.MNIST(root='./data', train=True, download=True, transform=transform)\n",
        "test = datasets.MNIST(root='./data', train=False, download=True, transform=transform)"
      ]
    },
    {
      "cell_type": "code",
      "execution_count": 7,
      "metadata": {
        "id": "1RuuGzvYdaIo"
      },
      "outputs": [],
      "source": [
        "X_train = DataLoader(train, batch_size=64, shuffle=True)\n",
        "X_test = DataLoader(test, batch_size=64, shuffle=True)"
      ]
    },
    {
      "cell_type": "code",
      "execution_count": null,
      "metadata": {
        "id": "rG9_bCnIdxiw"
      },
      "outputs": [],
      "source": [
        "class NN(nn.Module):\n",
        "  def __init__(self):\n",
        "    super(NN, self).__init__()\n",
        "    self.layer1 = nn.Linear(28*28, 512)\n",
        "    self.layer2 = nn.Linear(512, 256)\n",
        "    self.layer3 = nn.Linear(256, 64)\n",
        "    self.layer4 = nn.Linear(64, 10)\n",
        "\n",
        "  def forward(self, x):\n",
        "    x = x.view(-1, 28 * 28)\n",
        "    x = torch.relu(self.layer1(x))\n",
        "    x = torch.relu(self.layer2(x))\n",
        "    x = torch.relu(self.layer3(x))\n",
        "    x = self.layer4(x)\n",
        "    return x"
      ]
    },
    {
      "cell_type": "code",
      "execution_count": 9,
      "metadata": {
        "id": "m5cbeXuaf2hZ"
      },
      "outputs": [],
      "source": [
        "model = NN()\n",
        "loss_fn = nn.CrossEntropyLoss()\n",
        "optimizer = optim.Adam(model.parameters(), lr=0.001)"
      ]
    },
    {
      "cell_type": "code",
      "execution_count": 10,
      "metadata": {
        "id": "qmYQbi5NgHoR"
      },
      "outputs": [],
      "source": [
        "for i in range(5):\n",
        "  for images, labels in X_train:\n",
        "    output = model(images)\n",
        "    loss = loss_fn(output, labels)\n",
        "    optimizer.zero_grad()\n",
        "    loss.backward()\n",
        "    optimizer.step()"
      ]
    },
    {
      "cell_type": "code",
      "execution_count": 12,
      "metadata": {
        "id": "-t8_kEFehFQv"
      },
      "outputs": [],
      "source": [
        "total = correct = 0\n",
        "with torch.no_grad():\n",
        "  for images, labels in X_test:\n",
        "    outputs = model(images)\n",
        "    _, predicted = torch.max(outputs, 1)\n",
        "    total += labels.size(0)\n",
        "    correct += (predicted == labels).sum().item()"
      ]
    },
    {
      "cell_type": "code",
      "execution_count": 15,
      "metadata": {
        "colab": {
          "base_uri": "https://localhost:8080/"
        },
        "id": "ApxDclEbhlqW",
        "outputId": "0f369166-a7ee-4fc4-e447-a750992f81bf"
      },
      "outputs": [
        {
          "name": "stdout",
          "output_type": "stream",
          "text": [
            "Test Accuracy: 95.85%\n"
          ]
        }
      ],
      "source": [
        "\n",
        "print(f\"Test Accuracy: {100 * correct / total}%\")"
      ]
    }
  ],
  "metadata": {
    "colab": {
      "provenance": []
    },
    "kernelspec": {
      "display_name": "Python 3",
      "name": "python3"
    },
    "language_info": {
      "name": "python"
    }
  },
  "nbformat": 4,
  "nbformat_minor": 0
}
