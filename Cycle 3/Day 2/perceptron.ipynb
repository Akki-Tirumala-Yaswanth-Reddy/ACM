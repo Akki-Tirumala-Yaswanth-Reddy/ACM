{
 "cells": [
  {
   "cell_type": "code",
   "execution_count": 1,
   "id": "320fee21",
   "metadata": {},
   "outputs": [],
   "source": [
    "import numpy as np"
   ]
  },
  {
   "cell_type": "markdown",
   "id": "0d046fe6",
   "metadata": {},
   "source": [
    "w = w + alpha * (y - y') * x\n",
    "b = b + alpha * (y - y')\n",
    "\n",
    "update = alpha * (y - y')\n",
    "\n",
    "y = X * w + b"
   ]
  },
  {
   "cell_type": "code",
   "execution_count": 15,
   "id": "92059893",
   "metadata": {},
   "outputs": [],
   "source": [
    "class Perceptron:\n",
    "    def __init__(self, learning_rate = 0.1, n_iter = 10):\n",
    "        self.learning_rate = learning_rate\n",
    "        self.n_iter = n_iter\n",
    "        self.activation_function = self.step_function\n",
    "\n",
    "    def fit(self, X, y):\n",
    "        n_samples, n_features = X.shape\n",
    "        self.weights = np.zeros(n_features) +  3\n",
    "        self.bias = 0\n",
    "        for i in range(self.n_iter):\n",
    "            for ind, x_i in enumerate(X):\n",
    "                linear_ouput = np.dot(x_i, self.weights) + self.bias\n",
    "                y_pred = self.activation_function(linear_ouput)\n",
    "\n",
    "                update = self.learning_rate * (y[ind] - y_pred)\n",
    "                self.weights += update * x_i\n",
    "                self.bias += update\n",
    "\n",
    "    def predict(self, X):\n",
    "        output = np.dot(X, self.weights) + self.bias\n",
    "        return self.activation_function(output)\n",
    "\n",
    "    def step_function(self, x):\n",
    "        return np.where(x >= 0, 1, 0)"
   ]
  },
  {
   "cell_type": "code",
   "execution_count": null,
   "id": "7e781554",
   "metadata": {},
   "outputs": [
    {
     "name": "stdout",
     "output_type": "stream",
     "text": [
      "[0 1 0 1 1 1]\n"
     ]
    }
   ],
   "source": [
    "X = np.array([[1, 1], [2, 2], [1, 1], [3, 3], [2, 2], [4, 4]])\n",
    "y = np.array([0, 1, 0, 0, 1, 1])\n",
    "\n",
    "model = Perceptron()\n",
    "\n",
    "model.fit(X, y)\n",
    "output = model.predict(X)\n",
    "\n",
    "print(output)"
   ]
  },
  {
   "cell_type": "code",
   "execution_count": null,
   "id": "6ca92df5",
   "metadata": {},
   "outputs": [],
   "source": []
  }
 ],
 "metadata": {
  "kernelspec": {
   "display_name": "base",
   "language": "python",
   "name": "python3"
  },
  "language_info": {
   "codemirror_mode": {
    "name": "ipython",
    "version": 3
   },
   "file_extension": ".py",
   "mimetype": "text/x-python",
   "name": "python",
   "nbconvert_exporter": "python",
   "pygments_lexer": "ipython3",
   "version": "3.12.4"
  }
 },
 "nbformat": 4,
 "nbformat_minor": 5
}
