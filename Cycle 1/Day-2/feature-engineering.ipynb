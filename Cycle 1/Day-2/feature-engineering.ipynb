{
 "cells": [
  {
   "cell_type": "code",
   "execution_count": 2,
   "id": "3391b962",
   "metadata": {
    "ExecuteTime": {
     "end_time": "2025-07-19T10:03:08.890878Z",
     "start_time": "2025-07-19T10:03:08.888117Z"
    }
   },
   "outputs": [],
   "source": [
    "import pandas as pd\n",
    "import seaborn as sns\n",
    "import matplotlib.pyplot as plt"
   ]
  },
  {
   "cell_type": "code",
   "execution_count": 3,
   "id": "4883974b",
   "metadata": {
    "ExecuteTime": {
     "end_time": "2025-07-19T10:03:11.348916Z",
     "start_time": "2025-07-19T10:03:11.332212Z"
    }
   },
   "outputs": [],
   "source": [
    "df = pd.read_csv(\"after_day1.csv\")\n",
    "df.drop(columns=[\"Unnamed: 0\"], inplace=True)"
   ]
  },
  {
   "cell_type": "code",
   "execution_count": 4,
   "id": "b2b5f0e2",
   "metadata": {
    "ExecuteTime": {
     "end_time": "2025-07-19T10:03:14.105851Z",
     "start_time": "2025-07-19T10:03:13.162569Z"
    }
   },
   "outputs": [],
   "source": [
    "df[\"BurnoutRisk\"] = df[\"BurnoutRisk\"].astype(int)"
   ]
  },
  {
   "cell_type": "code",
   "execution_count": 5,
   "id": "37af86cf",
   "metadata": {},
   "outputs": [],
   "source": [
    "df.drop([\"EmployeeID\"], axis= 1, inplace= True)"
   ]
  },
  {
   "cell_type": "code",
   "execution_count": 6,
   "id": "c967e8bd",
   "metadata": {},
   "outputs": [],
   "source": [
    "numerical_cols = [col for col in df.columns if df[col].dtype != 'object' and col != \"BurnoutRisk\"]\n",
    "categorical_cols = [col for col in df.columns if df[col].dtype == 'object']"
   ]
  },
  {
   "cell_type": "code",
   "execution_count": 7,
   "id": "3d89c957",
   "metadata": {},
   "outputs": [],
   "source": [
    "from sklearn.preprocessing import PowerTransformer\n",
    "\n",
    "scaler = PowerTransformer()\n",
    "df[numerical_cols] = scaler.fit_transform(df[numerical_cols])"
   ]
  },
  {
   "cell_type": "code",
   "execution_count": 8,
   "id": "826135ea",
   "metadata": {},
   "outputs": [],
   "source": [
    "df['RemoteWork'] = df['RemoteWork'].map({'No': 1, 'Hybrid': 2, 'Yes': 3})\n",
    "df['HasMentalHealthSupport'] = df['HasMentalHealthSupport'].map({'No': 1, 'Yes': 2})\n",
    "df['HasTherapyAccess'] = df['HasTherapyAccess'].map({'No': 1, 'Yes': 2})\n",
    "df['SalaryRange'] = df['SalaryRange'].map({'<40K': 1, '40K-60K': 2, '60K-80K': 3, '80K-100K': 4, '100K+': 5})"
   ]
  },
  {
   "cell_type": "code",
   "execution_count": null,
   "id": "b2792404",
   "metadata": {},
   "outputs": [],
   "source": [
    "from sklearn.preprocessing import OneHotEncoder\n",
    "\n",
    "nominal_cols = list(set(categorical_cols) - set(['RemoteWork', 'HasMentalHealthSupport', 'HasTherapyAccess', 'SalaryRange']))\n",
    "if nominal_cols:\n",
    "    encoder = OneHotEncoder(sparse_output=False, handle_unknown='ignore')\n",
    "    encoded_nominals = encoder.fit_transform(df[nominal_cols])\n",
    "    encoded_nominal_df = pd.DataFrame(\n",
    "        encoded_nominals,\n",
    "        columns=encoder.get_feature_names_out(nominal_cols),\n",
    "        index=df.index\n",
    "    )\n",
    "\n",
    "df = df.drop(columns=nominal_cols)\n",
    "df = pd.concat([df, encoded_nominal_df], axis=1)"
   ]
  },
  {
   "cell_type": "code",
   "execution_count": 13,
   "id": "078a2c15",
   "metadata": {},
   "outputs": [],
   "source": [
    "X = df.drop(columns=[\"BurnoutRisk\"])\n",
    "y = df[\"BurnoutRisk\"]"
   ]
  },
  {
   "cell_type": "code",
   "execution_count": null,
   "id": "126e0543",
   "metadata": {},
   "outputs": [],
   "source": [
    "from sklearn.model_selection import train_test_split\n",
    "\n",
    "X_train, X_test, y_train, y_test = train_test_split(X, y, test_size=0.2, random_state=42)"
   ]
  },
  {
   "cell_type": "code",
   "execution_count": 15,
   "id": "5103702e",
   "metadata": {},
   "outputs": [],
   "source": [
    "from sklearn.linear_model import LinearRegression\n",
    "\n",
    "lr_model = LinearRegression()\n",
    "lr_model.fit(X_train, y_train)\n",
    "y_pred_lr = lr_model.predict(X_test)\n",
    "y_pred_lr_binary = (y_pred_lr >= 0.5).astype(int) "
   ]
  },
  {
   "cell_type": "code",
   "execution_count": 16,
   "id": "a726f080",
   "metadata": {},
   "outputs": [
    {
     "name": "stdout",
     "output_type": "stream",
     "text": [
      "MSE:  0.08359930723905563\n",
      "R2:  0.6247365851686427\n"
     ]
    }
   ],
   "source": [
    "from sklearn.linear_model import LinearRegression\n",
    "from sklearn.metrics import r2_score, mean_squared_error\n",
    "\n",
    "linear = LinearRegression()\n",
    "linear.fit(X_train, y_train)\n",
    "\n",
    "y_pred = linear.predict(X_test)\n",
    "print(\"MSE: \", mean_squared_error(y_test, y_pred))\n",
    "print(\"R2: \", r2_score(y_test, y_pred))"
   ]
  },
  {
   "cell_type": "code",
   "execution_count": 17,
   "id": "05eee916",
   "metadata": {},
   "outputs": [],
   "source": [
    "df.to_csv('after_day2.csv')"
   ]
  }
 ],
 "metadata": {
  "kernelspec": {
   "display_name": "base",
   "language": "python",
   "name": "python3"
  },
  "language_info": {
   "codemirror_mode": {
    "name": "ipython",
    "version": 3
   },
   "file_extension": ".py",
   "mimetype": "text/x-python",
   "name": "python",
   "nbconvert_exporter": "python",
   "pygments_lexer": "ipython3",
   "version": "3.12.4"
  }
 },
 "nbformat": 4,
 "nbformat_minor": 5
}
